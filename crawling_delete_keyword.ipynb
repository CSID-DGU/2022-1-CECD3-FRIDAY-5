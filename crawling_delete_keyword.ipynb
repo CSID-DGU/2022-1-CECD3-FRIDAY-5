{
  "nbformat": 4,
  "nbformat_minor": 0,
  "metadata": {
    "colab": {
      "name": "Untitled2.ipynb",
      "provenance": [],
      "collapsed_sections": []
    },
    "kernelspec": {
      "name": "python3",
      "display_name": "Python 3"
    },
    "language_info": {
      "name": "python"
    }
  },
  "cells": [
    {
      "cell_type": "code",
      "source": [
        "import pandas as pd\n",
        "import numpy as np\n",
        "import re\n",
        "df = pd.read_csv('/content/sample_data/crawling_naver_blog.csv')\n",
        "spac=df[df['sentence'].str.contains('챌린지')].index\n",
        "df.drop(spac, inplace=True)\n",
        "spac = df[df['sentence'].str.contains('블챌')].index\n",
        "df.drop(spac, inplace=True)\n",
        "df.to_csv('/content/sample_data/crawling_data.csv',mode=\"w\",encoding='euc-kr')\n"
      ],
      "metadata": {
        "id": "n16RlYjlRK1f"
      },
      "execution_count": 31,
      "outputs": []
    }
  ]
}