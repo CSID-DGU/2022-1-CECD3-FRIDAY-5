{
 "cells": [
  {
   "cell_type": "code",
   "execution_count": 16,
   "metadata": {},
   "outputs": [],
   "source": [
    "from tqdm import notebook\n",
    "import pandas as pd    # csv\n",
    "from selenium.webdriver.chrome.options import *\n",
    "from bs4 import *\n",
    "import time\n",
    "import re\n",
    "import base64    # encoder\n",
    "from selenium import webdriver as wb\n",
    "# Keys = 컴퓨터의 키보드와 같은 역할 모듈, 컴퓨터가 쓸 키보드 \n",
    "from selenium.webdriver.common.keys import Keys\n",
    "from selenium.webdriver.common.by import By\n",
    "\n",
    "chrome_options = Options()\n",
    "chrome_options.add_argument('--headless')\n",
    "chrome_options.add_argument('--no-sandbox')\n",
    "chrome_options.add_argument('--disable-dev-shm-usage')\n",
    "\n",
    "\n",
    "driver = wb.Chrome()\n",
    "url = \"https://papago.naver.com/\"\n",
    "\n",
    "driver.get(url)"
   ]
  },
  {
   "cell_type": "code",
   "execution_count": 4,
   "metadata": {},
   "outputs": [],
   "source": [
    " # 파파고 번역창 Xpath\n",
    "xpath_text = '//*[@id=\"txtSource\"]'\n",
    "xpath_button = '//*[@id=\"btnTranslate\"]'\n",
    "xpath_translated_text = '//*[@id=\"txtTarget\"]'\n",
    "xpath_reset_button = '//*[@id=\"sourceEditArea\"]/button'\n",
    "xpath_select_language_scroll = '//*[@id=\"ddTargetLanguage\"]/div[1]/button[2]'\n",
    "xpath_english = '//*[@id=\"ddTargetLanguage\"]/div[2]/ul/li[2]'"
   ]
  },
  {
   "cell_type": "markdown",
   "metadata": {},
   "source": []
  },
  {
   "cell_type": "code",
   "execution_count": 6,
   "metadata": {},
   "outputs": [],
   "source": [
    "#번역할 텍스트 입력창\n",
    "input_box = driver.find_element(By.XPATH, xpath_text)\n",
    "# 번역 버튼\n",
    "translate_button = driver.find_element(By.XPATH, xpath_button)\n",
    "reset_button = driver.find_element(By.XPATH, xpath_reset_button)"
   ]
  },
  {
   "cell_type": "code",
   "execution_count": 10,
   "metadata": {},
   "outputs": [],
   "source": [
    "input_box.send_keys('love')"
   ]
  },
  {
   "cell_type": "code",
   "execution_count": 11,
   "metadata": {},
   "outputs": [],
   "source": [
    "translate_button.click()"
   ]
  },
  {
   "cell_type": "code",
   "execution_count": 12,
   "metadata": {},
   "outputs": [],
   "source": [
    "result_translated_text = result_box.text"
   ]
  },
  {
   "cell_type": "code",
   "execution_count": 14,
   "metadata": {},
   "outputs": [],
   "source": [
    "reset_button.click()"
   ]
  },
  {
   "cell_type": "code",
   "execution_count": 15,
   "metadata": {},
   "outputs": [
    {
     "name": "stdout",
     "output_type": "stream",
     "text": [
      "사랑\n"
     ]
    }
   ],
   "source": [
    "print(result_translated_text)"
   ]
  },
  {
   "cell_type": "code",
   "execution_count": null,
   "metadata": {},
   "outputs": [],
   "source": []
  }
 ],
 "metadata": {
  "kernelspec": {
   "display_name": "Python 3.9.12 ('base')",
   "language": "python",
   "name": "python3"
  },
  "language_info": {
   "codemirror_mode": {
    "name": "ipython",
    "version": 3
   },
   "file_extension": ".py",
   "mimetype": "text/x-python",
   "name": "python",
   "nbconvert_exporter": "python",
   "pygments_lexer": "ipython3",
   "version": "3.9.12"
  },
  "orig_nbformat": 4,
  "vscode": {
   "interpreter": {
    "hash": "2f799bfa705ab707590db48bfeb6e282a9613546b06d3992fb0a7074d81bdee6"
   }
  }
 },
 "nbformat": 4,
 "nbformat_minor": 2
}
