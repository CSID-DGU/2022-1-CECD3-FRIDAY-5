{
 "cells": [
  {
   "cell_type": "code",
   "execution_count": null,
   "metadata": {
    "id": "SKgz_Cdjs98R"
   },
   "outputs": [],
   "source": [
    "# from google.colab import drive\n",
    "# drive.mount('/content/drive')"
   ]
  },
  {
   "cell_type": "code",
   "execution_count": null,
   "metadata": {
    "id": "VsNlAvTeVGDF"
   },
   "outputs": [],
   "source": [
    "# # Colab 환경설정\n",
    "\n",
    "!pip install gluonnlp pandas tqdm\n",
    "!pip install mxnet\n",
    "!pip install sentencepiece==0.1.91\n",
    "!pip install transformers==4.8.2\n",
    "!pip install torch==1.8.1"
   ]
  },
  {
   "cell_type": "code",
   "execution_count": null,
   "metadata": {},
   "outputs": [],
   "source": [
    "# !pip install matplotlib"
   ]
  },
  {
   "cell_type": "code",
   "execution_count": null,
   "metadata": {
    "id": "neJQAfJ8VkNn"
   },
   "outputs": [],
   "source": [
    "# # github에서 Kobert 파일 로드 및 Kobert 모델 불러오기\n",
    "\n",
    "# #kobert_tokenizer 폴더 다운받는 코드\n",
    "# !pip install 'git+https://github.com/SKTBrain/KoBERT.git#egg=kobert_tokenizer&subdirectory=kobert_hf'\n",
    "\n",
    "# #https://github.com/SKTBrain/KoBERT 의 파일들을 다운받는 코드\n",
    "# !pip install 'git+https://git@github.com/SKTBrain/KoBERT.git@master'\n",
    "\n",
    "from kobert_tokenizer import KoBERTTokenizer\n",
    "from transformers import BertModel\n",
    "import gluonnlp as nlp\n",
    "\n",
    "# tokenizer = KoBERTTokenizer.from_pretrained('skt/kobert-base-v1')\n",
    "# bertmodel = BertModel.from_pretrained('skt/kobert-base-v1', return_dict=False)\n",
    "# vocab = nlp.vocab.BERTVocab.from_sentencepiece(tokenizer.vocab_file, padding_token='[PAD]')\n",
    "model_name = \"skt/kobert-base-v1\"\n",
    "tokenizer = KoBERTTokenizer.from_pretrained(model_name, use_fast=False)\n",
    "bertmodel = BertModel.from_pretrained(model_name)\n",
    "vocab = nlp.vocab.BERTVocab.from_sentencepiece(tokenizer.vocab_file, padding_token='[PAD]')"
   ]
  },
  {
   "cell_type": "code",
   "execution_count": null,
   "metadata": {},
   "outputs": [],
   "source": [
    "vocab"
   ]
  },
  {
   "cell_type": "code",
   "execution_count": null,
   "metadata": {
    "id": "7YElfQ0SXgMb"
   },
   "outputs": [],
   "source": [
    "# 필요한 라이브러리 불러오기\n",
    "# import matplotlib.pyplot as plt\n",
    "import torch\n",
    "from torch import nn\n",
    "import torch.nn.functional as F\n",
    "import torch.optim as optim\n",
    "from torch.utils.data import Dataset, DataLoader\n",
    "import numpy as np\n",
    "from tqdm.notebook import tqdm\n",
    "import pandas as pd\n",
    "import re\n",
    "\n",
    "#transformers\n",
    "from transformers import AdamW\n",
    "from transformers.optimization import get_cosine_schedule_with_warmup\n",
    "\n",
    "#GPU 사용 시\n",
    "device = torch.device(\"cuda:0\")"
   ]
  },
  {
   "cell_type": "code",
   "execution_count": null,
   "metadata": {
    "id": "bbrj2SPKZ254"
   },
   "outputs": [],
   "source": [
    "# 입력 데이터셋을 토큰화하기\n",
    "\n",
    "# 각 데이터가 BERT 모델의 입력으로 들어갈 수 있도록 tokenization, int encoding padding 등을 해주는 코드이다.\n",
    "class BERTDataset(Dataset):\n",
    "    def __init__(self, dataset, sent_idx, label_idx, bert_tokenizer,vocab, max_len,\n",
    "                 pad, pair):\n",
    "   \n",
    "        transform = nlp.data.BERTSentenceTransform(\n",
    "            bert_tokenizer, max_seq_length=max_len,vocab=vocab, pad=pad, pair=pair)\n",
    "        \n",
    "        self.sentences = [transform([i[sent_idx]]) for i in dataset]\n",
    "        self.labels = [np.int32(i[label_idx]) for i in dataset]\n",
    "\n",
    "    def __getitem__(self, i):\n",
    "        return (self.sentences[i] + (self.labels[i], ))\n",
    "         \n",
    "\n",
    "    def __len__(self):\n",
    "        return (len(self.labels))"
   ]
  },
  {
   "cell_type": "code",
   "execution_count": null,
   "metadata": {
    "id": "D1Xqo85qajit"
   },
   "outputs": [],
   "source": [
    "# Setting parameters\n",
    "max_len = 64\n",
    "batch_size = 64\n",
    "warmup_ratio = 0.1\n",
    "num_epochs = 5\n",
    "max_grad_norm = 1\n",
    "log_interval = 200\n",
    "learning_rate =  5e-5"
   ]
  },
  {
   "cell_type": "code",
   "execution_count": null,
   "metadata": {},
   "outputs": [],
   "source": [
    "import re"
   ]
  },
  {
   "cell_type": "code",
   "execution_count": null,
   "metadata": {},
   "outputs": [],
   "source": [
    "def get_clean_text(text):\n",
    "    result = \"\"\n",
    " \n",
    "    result = re.sub('[-=+,#/\\?:^$.@*\\\"※~&%ㆍ!』\\\\‘|\\(\\)\\[\\]\\<\\>`\\'…《\\》]', '', text) # 특수문자\n",
    "    result = re.sub('([ㄱ-ㅎㅏ-ㅣ]+)', '', result) # 한글 자음, 한글 모음\n",
    "    result = re.sub('([♡❤✌❣♥ᆢ✊❤️✨⤵️☺️;”“]+)', '', result) # 이모티콘 \n",
    "    only_BMP_pattern = re.compile(\"[\"\n",
    "                        u\"\\U00010000-\\U0010FFFF\"  #BMP characters 이외\n",
    "                       \"]+\", flags=re.UNICODE)\n",
    "    result = only_BMP_pattern.sub(r'', result)# BMP characters만\n",
    "    emoji_pattern = re.compile(\"[\"\n",
    "                            u\"\\U0001F600-\\U0001F64F\"  # emoticons\n",
    "                            u\"\\U0001F300-\\U0001F5FF\"  # symbols & pictographs\n",
    "                            u\"\\U0001F680-\\U0001F6FF\"  # transport & map symbols\n",
    "                            u\"\\U0001F1E0-\\U0001F1FF\"  # flags (iOS)\n",
    "                                               \"]+\", flags=re.UNICODE)\n",
    "    result =  emoji_pattern.sub(r'', result) # 유니코드로 이모티콘 지우기\n",
    "    \n",
    "    \n",
    "    return result"
   ]
  },
  {
   "cell_type": "code",
   "execution_count": null,
   "metadata": {},
   "outputs": [],
   "source": [
    "df_train = pd.read_csv(\"./dataset/train.csv\", encoding='utf-8')\n",
    "df_val = pd.read_csv(\"./dataset/validation.csv\", encoding='utf-8')"
   ]
  },
  {
   "cell_type": "code",
   "execution_count": null,
   "metadata": {},
   "outputs": [],
   "source": [
    "df_train = df_train.replace({\"Emotion\":{\"neutral\": 0, \"happiness\": 1, \"sadness\": 2, \"angry\": 3, \"disgust\": 4, \"fear\": 5, \"surprise\": 6}})\n",
    "df_val = df_val.replace({\"Emotion\":{\"neutral\": 0, \"happiness\": 1, \"sadness\": 2, \"angry\": 3, \"disgust\": 4, \"fear\": 5, \"surprise\": 6}})"
   ]
  },
  {
   "cell_type": "code",
   "execution_count": null,
   "metadata": {},
   "outputs": [],
   "source": [
    "for i in tqdm(range(len(df_train))):\n",
    "    df_train.at[i, '발화문'] = get_clean_text(df_train.at[i, '발화문'])\n",
    "    \n",
    "for i in tqdm(range(len(df_val))):\n",
    "    df_val.at[i, '발화문'] = get_clean_text(df_val.at[i, '발화문'])"
   ]
  },
  {
   "cell_type": "code",
   "execution_count": null,
   "metadata": {},
   "outputs": [],
   "source": [
    "df_train"
   ]
  },
  {
   "cell_type": "code",
   "execution_count": null,
   "metadata": {},
   "outputs": [],
   "source": [
    "df_val"
   ]
  },
  {
   "cell_type": "code",
   "execution_count": null,
   "metadata": {},
   "outputs": [],
   "source": [
    "df_val['Emotion'].value_counts(normalize=True)"
   ]
  },
  {
   "cell_type": "code",
   "execution_count": null,
   "metadata": {},
   "outputs": [],
   "source": [
    "df_val['Emotion'].unique()"
   ]
  },
  {
   "cell_type": "code",
   "execution_count": null,
   "metadata": {},
   "outputs": [],
   "source": [
    "dataset_train = []\n",
    "for ques, label in zip(df_train['발화문'], df_train['Emotion']):\n",
    "    data = []\n",
    "    data.append(ques)\n",
    "    data.append(label)\n",
    "    \n",
    "    dataset_train.append(data)\n",
    "    \n",
    "dataset_val = []\n",
    "for ques, label in zip(df_val['발화문'], df_val['Emotion']):\n",
    "    data = []\n",
    "    data.append(ques)\n",
    "    data.append(label)\n",
    "    \n",
    "    dataset_val.append(data)"
   ]
  },
  {
   "cell_type": "code",
   "execution_count": null,
   "metadata": {},
   "outputs": [],
   "source": [
    "dataset_train"
   ]
  },
  {
   "cell_type": "code",
   "execution_count": null,
   "metadata": {},
   "outputs": [],
   "source": [
    "dataset_val"
   ]
  },
  {
   "cell_type": "code",
   "execution_count": null,
   "metadata": {
    "id": "MetYxxwmaqoi"
   },
   "outputs": [],
   "source": [
    "tok=tokenizer.tokenize\n",
    "data_train = BERTDataset(dataset_train, 0, 1, tok, vocab, max_len, True, False)\n",
    "data_validation = BERTDataset(dataset_val,0, 1, tok, vocab,  max_len, True, False)"
   ]
  },
  {
   "cell_type": "code",
   "execution_count": null,
   "metadata": {
    "id": "OtuLeIMVatqv"
   },
   "outputs": [],
   "source": [
    "train_dataloader = torch.utils.data.DataLoader(data_train, batch_size=batch_size, num_workers=0)\n",
    "validation_dataloader = torch.utils.data.DataLoader(data_validation, batch_size=batch_size, num_workers=0)"
   ]
  },
  {
   "cell_type": "code",
   "execution_count": null,
   "metadata": {
    "id": "7NNpyy9Lavfz"
   },
   "outputs": [],
   "source": [
    "# KoBERT 모델 구현하기"
   ]
  },
  {
   "cell_type": "code",
   "execution_count": null,
   "metadata": {
    "id": "IhcQgX__az28"
   },
   "outputs": [],
   "source": [
    "class BERTClassifier(nn.Module):\n",
    "    def __init__(self,\n",
    "                 bert,\n",
    "                 hidden_size = 768,\n",
    "                 num_classes=7,   ##클래스 수 조정##\n",
    "                 dr_rate=None,\n",
    "                 params=None):\n",
    "        super(BERTClassifier, self).__init__()\n",
    "        self.bert = bert\n",
    "        self.dr_rate = dr_rate\n",
    "                 \n",
    "        self.classifier = nn.Linear(hidden_size , num_classes)\n",
    "        if dr_rate:\n",
    "            self.dropout = nn.Dropout(p=dr_rate)\n",
    "    \n",
    "    def gen_attention_mask(self, token_ids, valid_length):\n",
    "        attention_mask = torch.zeros_like(token_ids)\n",
    "        for i, v in enumerate(valid_length):\n",
    "            attention_mask[i][:v] = 1\n",
    "        return attention_mask.float()\n",
    "\n",
    "    def forward(self, token_ids, valid_length, segment_ids):\n",
    "        attention_mask = self.gen_attention_mask(token_ids, valid_length)\n",
    "        \n",
    "        _, pooler = self.bert(input_ids = token_ids, token_type_ids = segment_ids.long(), attention_mask = attention_mask.float().to(token_ids.device),return_dict=False)\n",
    "        if self.dr_rate:\n",
    "            out = self.dropout(pooler)\n",
    "        return self.classifier(out)"
   ]
  },
  {
   "cell_type": "code",
   "execution_count": null,
   "metadata": {},
   "outputs": [],
   "source": [
    "df_train['Emotion'].value_counts()"
   ]
  },
  {
   "cell_type": "code",
   "execution_count": null,
   "metadata": {
    "id": "gmIBAo5-puy9"
   },
   "outputs": [],
   "source": [
    "#BERT 모델 불러오기\n",
    "model = BERTClassifier(bertmodel,  dr_rate=0.5).to(device)\n",
    " \n",
    "#optimizer와 schedule 설정\n",
    "no_decay = ['bias', 'LayerNorm.weight']\n",
    "optimizer_grouped_parameters = [\n",
    "    {'params': [p for n, p in model.named_parameters() if not any(nd in n for nd in no_decay)], 'weight_decay': 0.01},\n",
    "    {'params': [p for n, p in model.named_parameters() if any(nd in n for nd in no_decay)], 'weight_decay': 0.0}\n",
    "]\n",
    "\n",
    "optimizer = AdamW(optimizer_grouped_parameters, lr=learning_rate)\n",
    "loss_fn = nn.CrossEntropyLoss() # 다중분류를 위한 대표적인 loss func\n",
    "\n",
    "\n",
    "t_total = len(train_dataloader) * num_epochs\n",
    "warmup_step = int(t_total * warmup_ratio)\n",
    "\n",
    "scheduler = get_cosine_schedule_with_warmup(optimizer, num_warmup_steps=warmup_step, num_training_steps=t_total)\n",
    "\n",
    "#정확도 측정을 위한 함수 정의\n",
    "def calc_accuracy(X,Y):\n",
    "    max_vals, max_indices = torch.max(X, 1)\n",
    "    train_acc = (max_indices == Y).sum().data.cpu().numpy()/max_indices.size()[0]\n",
    "    return train_acc\n",
    "    \n",
    "train_dataloader"
   ]
  },
  {
   "cell_type": "code",
   "execution_count": null,
   "metadata": {},
   "outputs": [],
   "source": [
    "# 오차행렬, 정확도, 정밀도, 재현율 f1 score을 한번에 출력하기 위한 함수 정의\n",
    "\n",
    "from sklearn.metrics import accuracy_score, precision_score, recall_score, confusion_matrix, f1_score\n",
    "\n",
    "def get_clf_eval(y_true, y_pred):\n",
    "#     confusion = confusion_matrix(y_test, pred)\n",
    "#     answer = torch.cat(y_test).detach().cpu().tolist()\n",
    "#     temp = torch.cat(pred).detach().cpu().tolist()\n",
    "#     prediction = []\n",
    "#     for i in range(len(temp)):\n",
    "#         prediction.append(temp[i].index(max(temp[i])))\n",
    "    answer = y_true\n",
    "    prediction = y_pred\n",
    "    accuracy = accuracy_score(answer, prediction)\n",
    "    precision = precision_score(answer, prediction, average= \"macro\")\n",
    "    recall = recall_score(answer, prediction, average= \"macro\")\n",
    "    f1 = f1_score(answer, prediction, average= \"macro\")\n",
    "#     print('Confusion Matrix')\n",
    "#     print(confusion)\n",
    "    print('정확도:{}, 정밀도:{}, 재현율:{} f1 score:{}'.format(accuracy, precision, recall, f1))\n",
    "    text = '정확도:{}, 정밀도:{}, 재현율:{} f1 score:{}'.format(accuracy, precision, recall, f1)\n",
    "    return text"
   ]
  },
  {
   "cell_type": "code",
   "execution_count": null,
   "metadata": {},
   "outputs": [],
   "source": [
    "print(len(dataset_train))"
   ]
  },
  {
   "cell_type": "code",
   "execution_count": null,
   "metadata": {},
   "outputs": [],
   "source": [
    "# 학습 모델 저장할 폴더 생성\n",
    "import os\n",
    "PATH = f'./Model/batch size={batch_size}, learning rate={learning_rate}, hugging face/'\n",
    "os.mkdir(PATH)"
   ]
  },
  {
   "cell_type": "code",
   "execution_count": null,
   "metadata": {
    "id": "SKbHee64a3tn"
   },
   "outputs": [],
   "source": [
    "# train"
   ]
  },
  {
   "cell_type": "code",
   "execution_count": null,
   "metadata": {
    "scrolled": true
   },
   "outputs": [],
   "source": [
    "# train\n",
    "\n",
    "x_true = []\n",
    "x_pred = []\n",
    "y_true = []\n",
    "y_pred = []\n",
    "train_history=[]\n",
    "validation_history=[]\n",
    "loss_history=[]\n",
    "validation_loss_history=[]\n",
    "for e in range(num_epochs):\n",
    "    # epoch별 모델 저장할 폴더 생성\n",
    "    MODEL_PATH = PATH + f'epoch{e+1}/'\n",
    "    os.mkdir(MODEL_PATH)\n",
    "    \n",
    "#     train_acc = 0.0\n",
    "#     val_acc = 0.0\n",
    "    train_acc = 0\n",
    "    val_acc = 0\n",
    "    model.train()\n",
    "    print(f\"Epoch {e+1} Train\")\n",
    "    for batch_id, (token_ids, valid_length, segment_ids, label) in enumerate(tqdm(train_dataloader)):\n",
    "        optimizer.zero_grad()\n",
    "        token_ids = token_ids.long().to(device)\n",
    "        segment_ids = segment_ids.long().to(device)\n",
    "        valid_length= valid_length\n",
    "        label = label.long().to(device)\n",
    "        out = model(token_ids, valid_length, segment_ids)\n",
    "        x_true.extend(label.cpu().detach().numpy().tolist())\n",
    "        x_pred.extend(torch.argmax(out, dim=1).cpu().detach().tolist())\n",
    "        # print(label.shape,out.shape)\n",
    "        loss = loss_fn(out, label)\n",
    "        loss.backward()\n",
    "        torch.nn.utils.clip_grad_norm_(model.parameters(), max_grad_norm)\n",
    "        optimizer.step()\n",
    "        scheduler.step()  # Update learning rate schedule\n",
    "#         train_acc += calc_accuracy(out, label)\n",
    "        train_acc = accuracy_score(x_true, x_pred)\n",
    "        if batch_id % log_interval == 0:\n",
    "            print(\"epoch {} batch id {} loss {} train acc {}\".format(e+1, batch_id+1, loss.data.cpu().numpy(), train_acc))\n",
    "#             print(\"epoch {} batch id {} loss {} train acc {}\".format(e+1, batch_id+1, loss.data.cpu().numpy(), train_acc / (batch_id+1)))\n",
    "#     train_history.append(train_acc / (batch_id+1))\n",
    "    train_history.append(train_acc)\n",
    "    loss_history.append(loss.data.cpu().numpy())\n",
    "#     print(\"epoch {} train acc {}\".format(e+1, train_acc / (batch_id+1)))\n",
    "    print(\"epoch {} train acc {}\".format(e+1, train_acc))\n",
    "    print()\n",
    "#     train_history.append(train_acc / (batch_id+1))\n",
    "    \n",
    "    model.eval()\n",
    "    with torch.no_grad():\n",
    "    #         test_loss = 0\n",
    "        print(f\"Epoch {e+1} Validation\")\n",
    "        for batch_id, (token_ids, valid_length, segment_ids, label) in enumerate(tqdm(validation_dataloader)):\n",
    "            token_ids = token_ids.long().to(device)\n",
    "            segment_ids = segment_ids.long().to(device)\n",
    "            valid_length= valid_length\n",
    "            label = label.long().to(device)\n",
    "            y_true.extend(label.cpu().detach().numpy().tolist())    # 정답 y_true 리스트에 cpu로 저장\n",
    "            out = model(token_ids, valid_length, segment_ids)\n",
    "#             print(f\"y_true : {label}\")\n",
    "#             print(f\"y_true : {out}\")\n",
    "            y_pred.extend(torch.argmax(out, dim=1).cpu().detach().tolist())    # 예측값 클래스별 가중치 y_pred 리스트에 cpu로 저장\n",
    "\n",
    "            loss = loss_fn(out, label)\n",
    "#             val_acc += calc_accuracy(out, label)\n",
    "            val_acc = accuracy_score(y_true, y_pred)\n",
    "            if batch_id % log_interval == 0:\n",
    "#                 print(\"epoch {} batch id {} loss {} validation acc {}\".format(e+1, batch_id+1, loss.data.cpu().numpy(), val_acc / (batch_id+1)))\n",
    "                print(\"epoch {} batch id {} loss {} validation acc {}\".format(e+1, batch_id+1, loss.data.cpu().numpy(), val_acc))\n",
    "#         validation_history.append(val_acc / (batch_id+1))\n",
    "        validation_history.append(val_acc)\n",
    "        validation_loss_history.append(loss.data.cpu().numpy())\n",
    "\n",
    "    #         val_loss += loss_fn(out, label).data.cpu().numpy()\n",
    "\n",
    "#         print(\"epoch {} validation acc {} \".format(e+1, val_acc / (batch_id+1)))\n",
    "        print(\"epoch {} validation acc {} \".format(e+1, val_acc))\n",
    "    #         validation_history.append(val_acc / (batch_id+1))\n",
    "\n",
    "        get_clf_eval(y_true, y_pred)\n",
    "\n",
    "        # 학습 모델 저장\n",
    "        torch.save(model, MODEL_PATH + 'Model.pt')  # 전체 모델 저장\n",
    "#         torch.save(model.state_dict(), MODEL_PATH + 'Model_state_dict.pt')  # 모델 객체의 state_dict 저장\n",
    "\n",
    "        \n",
    "    "
   ]
  },
  {
   "cell_type": "code",
   "execution_count": null,
   "metadata": {
    "id": "-O3GDGPwa--1"
   },
   "outputs": [],
   "source": [
    "# 직접 만든 새로운 문장으로 테스트"
   ]
  },
  {
   "cell_type": "code",
   "execution_count": null,
   "metadata": {
    "id": "Gr9elPd_bEdc"
   },
   "outputs": [],
   "source": [
    "def predict(predict_sentence):\n",
    "\n",
    "    data = [predict_sentence, '0']\n",
    "    dataset_another = [data]\n",
    "\n",
    "    another_test = BERTDataset(dataset_another, 0, 1, tok, vocab, max_len, True, False)\n",
    "    test_dataloader = torch.utils.data.DataLoader(another_test, batch_size=batch_size, num_workers=5)\n",
    "    \n",
    "    model.eval()\n",
    "\n",
    "    for batch_id, (token_ids, valid_length, segment_ids, label) in enumerate(test_dataloader):\n",
    "        token_ids = token_ids.long().to(device)\n",
    "        segment_ids = segment_ids.long().to(device)\n",
    "\n",
    "        valid_length= valid_length\n",
    "        label = label.long().to(device)\n",
    "\n",
    "        out = model(token_ids, valid_length, segment_ids)\n",
    "\n",
    "\n",
    "        test_eval=[]\n",
    "        for i in out:\n",
    "            logits=i\n",
    "            logits = logits.detach().cpu().numpy()\n",
    "\n",
    "            if np.argmax(logits) == 0:\n",
    "                test_eval.append(\"중립이\")\n",
    "            elif np.argmax(logits) == 1:\n",
    "                test_eval.append(\"행복이\")\n",
    "            elif np.argmax(logits) == 2:\n",
    "                test_eval.append(\"슬픔이\")\n",
    "            elif np.argmax(logits) == 3:\n",
    "                test_eval.append(\"분노가\")\n",
    "            elif np.argmax(logits) == 4:\n",
    "                test_eval.append(\"혐오가\")\n",
    "            elif np.argmax(logits) == 5:\n",
    "                test_eval.append(\"공포가\")\n",
    "            elif np.argmax(logits) == 6:\n",
    "                test_eval.append(\"놀람이\")\n",
    "\n",
    "\n",
    "\n",
    "        print(\">> 입력하신 내용에서 \" + test_eval[0] + \" 느껴집니다.\")"
   ]
  },
  {
   "cell_type": "code",
   "execution_count": null,
   "metadata": {
    "id": "nAD3RoYTbIBk"
   },
   "outputs": [],
   "source": [
    "#질문 무한반복하기! 0 입력시 종료\n",
    "end = 1\n",
    "while end == 1 :\n",
    "    sentence = input(\"하고싶은 말을 입력해주세요 : \")\n",
    "    if sentence == \"0\" :\n",
    "        break\n",
    "    predict(sentence)\n",
    "    print(\"\\n\")"
   ]
  },
  {
   "cell_type": "code",
   "execution_count": null,
   "metadata": {},
   "outputs": [],
   "source": []
  }
 ],
 "metadata": {
  "accelerator": "GPU",
  "colab": {
   "name": "Copy of sentiment_analysis.ipynb",
   "private_outputs": true,
   "provenance": []
  },
  "kernelspec": {
   "display_name": "Python 3 (ipykernel)",
   "language": "python",
   "name": "python3"
  },
  "language_info": {
   "codemirror_mode": {
    "name": "ipython",
    "version": 3
   },
   "file_extension": ".py",
   "mimetype": "text/x-python",
   "name": "python",
   "nbconvert_exporter": "python",
   "pygments_lexer": "ipython3",
   "version": "3.8.13"
  }
 },
 "nbformat": 4,
 "nbformat_minor": 1
}
